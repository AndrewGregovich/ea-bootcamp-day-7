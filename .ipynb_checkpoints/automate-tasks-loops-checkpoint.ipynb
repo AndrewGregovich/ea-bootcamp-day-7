{
 "cells": [
  {
   "cell_type": "markdown",
   "metadata": {},
   "source": [
    "## Example: Create New List of Calculated Values\n",
    "\n",
    "Recall that in the lessons on variables and lists, you learned how to run calculations on individual variables to convert the units, and then you created a list that contained the recalculated values. \n",
    "\n",
    "Average monthly precipitation for <a href=\"https://www.esrl.noaa.gov/psd/boulder/Boulder.mm.precip.html\" target=\"_blank\">Boulder, Colorado, provided by the U.S. National Oceanic and Atmospheric Administration (NOAA).</a> \n",
    "\n",
    "Month  | Precipitation (inches) |\n",
    "--- | --- |\n",
    "Jan | 0.70 |\n",
    "Feb | 0.75 |\n",
    "Mar | 1.85 |\n",
    "Apr | 2.93 |\n",
    "May | 3.05 |\n",
    "June | 2.02 |\n",
    "July | 1.93 |\n",
    "Aug | 1.62 |\n",
    "Sept | 1.84 |\n",
    "Oct | 1.31 |\n",
    "Nov | 1.39 |\n",
    "Dec | 0.84 |\n",
    "\n",
    "In this lesson, you will build a loop to automate these tasks, so that you recalculate each value in a list, and then add the new value to a new list. \n",
    "\n",
    "### Create Variable For Loop\n",
    "\n",
    "Begin by creating a variable upon which your loop will execute. In this case, you will run the calculation `* 25.4` on each item in a list containing the average monthly precipitation values."
   ]
  },
  {
   "cell_type": "code",
   "execution_count": 1,
   "metadata": {},
   "outputs": [
    {
     "name": "stdout",
     "output_type": "stream",
     "text": [
      "[0.7, 0.75, 1.85, 2.93, 3.05, 2.02, 1.93, 1.62, 1.84, 1.31, 1.39, 0.84]\n"
     ]
    }
   ],
   "source": [
    "# create a list of average monthly precipitation in inches\n",
    "avg_monthly_precip_in = [0.70, 0.75, 1.85, 2.93, 3.05, 2.02, 1.93, 1.62, 1.84, 1.31, 1.39, 0.84]\n",
    "\n",
    "# print list\n",
    "print(avg_monthly_precip_in)"
   ]
  },
  {
   "cell_type": "markdown",
   "metadata": {},
   "source": [
    "### Select Type of Loop\n",
    "\n",
    "Next, select and compose a structure for your loop. Think about whether a `while` or `for` loop would work better for your task. You have a fixed list of values upon which you want to iterate a calculation.\n",
    "\n",
    "Which type of loop structure is used in the code below?"
   ]
  },
  {
   "cell_type": "code",
   "execution_count": 2,
   "metadata": {},
   "outputs": [
    {
     "name": "stdout",
     "output_type": "stream",
     "text": [
      "17.779999999999998\n",
      "19.049999999999997\n",
      "46.99\n",
      "74.422\n",
      "77.46999999999998\n",
      "51.308\n",
      "49.022\n",
      "41.148\n",
      "46.736\n",
      "33.274\n",
      "35.306\n",
      "21.336\n"
     ]
    }
   ],
   "source": [
    "# compose loop using the previously created list\n",
    "for month in avg_monthly_precip_in:\n",
    "    \n",
    "    # multiply each item in the list by 25.4 to convert from inches to mm\n",
    "    month = month * 25.4\n",
    "    \n",
    "    # print the new value of each item\n",
    "    print(month)    "
   ]
  },
  {
   "cell_type": "markdown",
   "metadata": {},
   "source": [
    "### Expand Loop To Include More Tasks\n",
    "\n",
    "In previous lessons, you learned how to append items to the end of an existing list using `listname += [value]`, which employs an assignment operator to add the new values to an existing list. \n",
    "\n",
    "You can add do this with your loop with only two new lines of code. \n",
    "\n",
    "First, create an empty `Python` list that will receive new values using `listname = []`. \n",
    "\n",
    "Then, you can add a new line of code to your loop that will use `listname += [value]` to append each value after it is calculated. "
   ]
  },
  {
   "cell_type": "code",
   "execution_count": 3,
   "metadata": {},
   "outputs": [
    {
     "name": "stdout",
     "output_type": "stream",
     "text": [
      "[17.779999999999998, 19.049999999999997, 46.99, 74.422, 77.46999999999998, 51.308, 49.022, 41.148, 46.736, 33.274, 35.306, 21.336]\n"
     ]
    }
   ],
   "source": [
    "# create a new list that is empty, so that you can add the values calculated in the loop\n",
    "avg_monthly_precip_mm = []\n",
    "\n",
    "# compose loop using the previously created list\n",
    "for month in avg_monthly_precip_in:\n",
    "    \n",
    "    # multiply each item in the list by 25.4 to convert from inches to mm\n",
    "    month = month * 25.4\n",
    "    \n",
    "    # add each item to the new list \n",
    "    avg_monthly_precip_mm += [month]\n",
    "    \n",
    "# print the new list\n",
    "print(avg_monthly_precip_mm) "
   ]
  },
  {
   "cell_type": "markdown",
   "metadata": {},
   "source": [
    "Look carefully at how the variables `avg_monthly_precip_mm` and `month` are created. \n",
    "\n",
    "The list variable `avg_monthly_precip_mm` was explicitly created, meaning that you initalized and assigned the value to the variable manually. In this case, you manually created the variable `avg_monthly_precip_mm` as an empty list.\n",
    "\n",
    "The variable `month` is an implicit variable, meaning that it was not explicitly created by you, by rather it is created as part of the loop and serves as a placeholder to receive data in each iteration of the loop. At the end of the loop, an implicit variable is equal to the last value that it was assigned.  \n",
    "\n",
    "Be mindful of the differences between implicit and explicit variables, as sometimes you may have to employ a slightly different syntax when trying to use implicit variables to access data within data structures. \n",
    "\n",
    "In this course, syntax differences will be noted in the lessons and in the assignments.  \n",
    "\n",
    "\n",
    "## Example: Run a Summary Statistic on Multiple Numpy Arrays\n",
    "\n",
    "By now, you may be excited that you can automate these kinds of tasks, but you may also be thinking that you would prefer to iterate on `numpy arrays` or `pandas dataframes`, instead of working with data values in lists.\n",
    "\n",
    "You can do that, too! For example, you can build a loop that will calculate summary statistics (such as the sum or median values) of multiple data structures. \n",
    "\n",
    "Note that these two summary statistics (i.e. sum and median) are not provided by the `describe()` method of `pandas dataframes`, so this is a good time to use `numpy arrays`.  \n",
    "\n",
    "You can use the functions `np.sum()` and `np.median()` to calculate sum and median values of a `numpy array`. \n",
    "\n",
    "\n",
    "### Create Variables For Loop\n",
    "\n",
    "Just like before, create the variables containing the values you want to iterate upon. \n",
    "\n",
    "Begin with two new `numpy array` containing the monthly precipitation values in 2002 and 2013 for <a href=\"https://www.esrl.noaa.gov/psd/boulder/Boulder.mm.precip.html\" target=\"_blank\">Boulder, Colorado, provided by the U.S. National Oceanic and Atmospheric Administration (NOAA).</a> \n",
    "\n",
    "Month  | Precipitation (inches) in 2002 | Precipitation (inches) in 2013 |\n",
    "--- | --- | --- |\n",
    "Jan | 1.07 |0.27 |\n",
    "Feb | 0.44 |1.13 |\n",
    "Mar | 1.50 |1.72 |\n",
    "Apr | 0.20 |4.14 |\n",
    "May | 3.20 |2.66 |\n",
    "June | 1.18 |0.61 |\n",
    "July | 0.09 |1.03 |\n",
    "Aug | 1.44 |1.40 |\n",
    "Sept |1.52  |18.16 |\n",
    "Oct | 2.44 |2.24 |\n",
    "Nov | 0.78 |0.29 |\n",
    "Dec | 0.02 |0.50 |"
   ]
  },
  {
   "cell_type": "code",
   "execution_count": 4,
   "metadata": {},
   "outputs": [],
   "source": [
    "# import necessary packages\n",
    "import numpy as np\n",
    "\n",
    "# manually create a new numpy array for 2002\n",
    "avg_monthly_precip_2002 = np.array([1.07, 0.44, 1.50, 0.20, 3.20, 1.18, 0.09, 1.44, 1.52, 2.44, 0.78, 0.02])\n",
    "\n",
    "# manually create a new numpy array for 2013\n",
    "avg_monthly_precip_2013 = np.array([0.27, 1.13, 1.72, 4.14, 2.66, 0.61, 1.03, 1.40, 18.16, 2.24, 0.29, 0.50])"
   ]
  },
  {
   "cell_type": "markdown",
   "metadata": {},
   "source": [
    "### Select Type of Loop\n",
    "\n",
    "Again, think about what type of loop would work best for this data. \n",
    "\n",
    "This time you have two objects upon which you want to iterate a calculation: the `numpy array` for 2002 and the the `numpy array` for 2013. "
   ]
  },
  {
   "cell_type": "code",
   "execution_count": 5,
   "metadata": {},
   "outputs": [
    {
     "name": "stdout",
     "output_type": "stream",
     "text": [
      "sum: 13.879999999999999\n",
      "median: 1.125\n",
      "\n",
      "sum: 34.15\n",
      "median: 1.265\n",
      "\n"
     ]
    }
   ],
   "source": [
    "arraylist = [avg_monthly_precip_2002, avg_monthly_precip_2013]\n",
    "\n",
    "for array in arraylist:\n",
    "    \n",
    "    array_sum = np.sum(array)\n",
    "    array_median = np.median(array)\n",
    "    \n",
    "    print(\"sum:\", array_sum)\n",
    "    print(\"median:\", array_median)\n",
    "    print(\"\")\n",
    "    "
   ]
  },
  {
   "cell_type": "markdown",
   "metadata": {},
   "source": [
    "Congratulations - you have automated your first task in this course using `Python`!"
   ]
  },
  {
   "cell_type": "markdown",
   "metadata": {},
   "source": [
    "## Optional Challenge\n",
    "\n",
    "Test your `Python` skills to:\n",
    "\n",
    "1. Expand the previous loop to convert the values in each `numpy array` from inches to millimeters (1 inch = 25.4 millimeters), before calculating the summary statistics (hint: you only need to add one line!). \n",
    "\n",
    "It can also help to think about how these types of calculations are completed on `numpy arrays`. Recall how you previously converted the values in a `numpy array` in the `numpy array` lessons.  \n"
   ]
  }
 ],
 "metadata": {
  "celltoolbar": "Tags",
  "kernelspec": {
   "display_name": "Python 3",
   "language": "python",
   "name": "python3"
  },
  "language_info": {
   "codemirror_mode": {
    "name": "ipython",
    "version": 3
   },
   "file_extension": ".py",
   "mimetype": "text/x-python",
   "name": "python",
   "nbconvert_exporter": "python",
   "pygments_lexer": "ipython3",
   "version": "3.6.5"
  }
 },
 "nbformat": 4,
 "nbformat_minor": 2
}
